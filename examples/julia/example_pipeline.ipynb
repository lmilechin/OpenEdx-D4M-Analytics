{
 "cells": [
  {
   "cell_type": "markdown",
   "metadata": {},
   "source": [
    "# Pipeline"
   ]
  },
  {
   "cell_type": "markdown",
   "metadata": {},
   "source": [
    "<img src=\"images/pipeline.png\" alt=\"raw data\" style=\"width: 600px;\"/>"
   ]
  },
  {
   "cell_type": "markdown",
   "metadata": {},
   "source": [
    "# Step 0: Raw"
   ]
  },
  {
   "cell_type": "markdown",
   "metadata": {},
   "source": [
    "<img src=\"images/pipeline-raw.png\" alt=\"raw data\" style=\"width: 600px;\"/>"
   ]
  },
  {
   "cell_type": "markdown",
   "metadata": {},
   "source": [
    "The first step of the pipeline is to retrieve and potentially store the raw data. There are two main sources for OpenEdx data:"
   ]
  },
  {
   "attachments": {},
   "cell_type": "markdown",
   "metadata": {},
   "source": [
    "|         | Tracking Logs           | MySQL Database  |\n",
    "| :------------- |:-------------| :-----|\n",
    "| Kind of data  | clickstream events | course outlines, student responses,<br> demographics  |\n",
    "| Data format   | compressed JSON      |   depends on table and column <br>(course outlines are compressed bianry) |\n",
    "| Data location | course VM in  <br> /edx/var/log/tracking/      | course VM  <br> use command \"edxapp\" |\n",
    "| Data access | You may need to be given access <br> or ask  for data files to be transferred <br> to a location you can access      | Either requires access permission <br> or work with your admin/data steward <br> to determine what data you need |\n",
    "| Documentation | Fairly well documented [here](http://edx.readthedocs.io/projects/devdata/en/stable/internal_data_formats/tracking_logs.html)      | Limited documentation [here](http://edx.readthedocs.io/projects/devdata/en/latest/internal_data_formats/index.html) <br> (mostly Edx specific) |\n",
    "| Retrieving | Set up cronjob to rsync the data <br> from the VM daily | Shell script to query and uncompress <br> data, rsync to transfer |"
   ]
  },
  {
   "cell_type": "markdown",
   "metadata": {},
   "source": [
    "For example, my crontab looks roughly like this:\n",
    "\n",
    "```bash\n",
    "0 0 * * * rsync -av /edx/var/log/tracking/* lmilechin@txe1-login.mit.edu:/path/to/data/tracking_logs/bwedx/\n",
    "0 0 * * * sh transferOutline.sh\n",
    "```\n",
    "\n",
    "And the script I use for querying (I just grab the course outlines) and transferring the outlines is roughly:\n",
    "\n",
    "```bash\n",
    "#!/bin/bash\n",
    "\n",
    "fname=outline-$(date +%Y%m%d%H%M%S).txt\n",
    "mysql edxapp -B -N -e \"select structure_json from course_structures_coursestructure;\" | sed 's/\\\\n/\\n/g' | base64 -d | gunzip | sed 's/}{/}\\n{/g' > $fname\n",
    "\n",
    "rsync -av $fname lmilechin@txe1-login.mit.edu:/path/to/data/course_outlines/bwedx/\n",
    "```\n",
    "\n",
    "We reccommend working with your administrator or data steward to set up the data transfer. He or she may have a preferred method of transfer. If you have an account on the course VM, you may want to read a bit more about [crontab](http://www.adminschoice.com/crontab-quick-reference) and [rsync](https://linux.die.net/man/1/rsync) (and if you are new to Linux you may want to learn how to use a command line text editor, such as vi or nano, before editing the crontab).\n",
    "\n",
    "There is also evidence of a REST interface. You may need to be given access, but it seems to come with OpenEdx out of the box. We have discovered a few URLs, but could not find much documentation. It seems to be old (the [documentation](https://open.edx.org/open-edx-rest-apis) I found was from 2015), so I would not rely on it. But it could be worth looking into."
   ]
  },
  {
   "cell_type": "markdown",
   "metadata": {},
   "source": [
    "We have already retrieved what we are interested in: the tracking logs and the course outlines from the mySQL database. Here we will just specify the paths to our logs and outlines."
   ]
  },
  {
   "cell_type": "code",
   "execution_count": 1,
   "metadata": {},
   "outputs": [
    {
     "data": {
      "text/plain": [
       "\"../data/\""
      ]
     },
     "execution_count": 1,
     "metadata": {},
     "output_type": "execute_result"
    }
   ],
   "source": [
    "logLoc = \"../data/raw/\"\n",
    "outlineLoc = \"../data/\""
   ]
  },
  {
   "cell_type": "markdown",
   "metadata": {
    "collapsed": true
   },
   "source": [
    "Let's also grab the names of the files that we want to parse."
   ]
  },
  {
   "cell_type": "code",
   "execution_count": 2,
   "metadata": {
    "collapsed": true
   },
   "outputs": [],
   "source": [
    "fnames = filter!(r\".gz\",readdir(logLoc))\n",
    "fnames = logLoc.*replace.(fnames,\".gz\",\"\")\n",
    "\n",
    "outlinename = outlineLoc*filter!(r\"outline\",readdir(outlineLoc))[end];"
   ]
  },
  {
   "cell_type": "markdown",
   "metadata": {},
   "source": [
    "As an example, this is what one line in the raw tracking logs looks like.\n",
    "\n",
    "```json\n",
    "{\"username\": \"mhoule\", \"event_type\": \"problem_check\", \"ip\": \"129.55.200.20\", \"agent\": \"Mozilla/5.0 (X11; Ubuntu; Linux x86_64; rv:54.0) Gecko/20100101 Firefox/54.0\", \"host\": \"bwedx.mit.edu\", \"referer\": \"https://bwedx.mit.edu/courses/course-v1:edX+DemoX+Demo_Course/courseware/interactive_demonstrations/19a30717eff543078a5d94ae9d6c18a5/?child=first\", \"accept_language\": \"en;q=1.0, en;q=0.5\", \"event\": {\"submission\": {\"303034da25524878a2e66fb57c91cf85_2_1\": {\"input_type\": \"choicegroup\", \"question\": \"\", \"group_label\": \"\", \"response_type\": \"multiplechoiceresponse\", \"answer\": \"Neither - because there is no 'correct' frame of reference, the only true statement can be that there was no lock-to-key match.\", \"variant\": \"\", \"correct\": true}}, \"success\": \"correct\", \"grade\": 1, \"correct_map\": {\"303034da25524878a2e66fb57c91cf85_2_1\": {\"hint\": \"\", \"hintmode\": null, \"correctness\": \"correct\", \"npoints\": null, \"answervariable\": null, \"msg\": \"\", \"queuestate\": null}}, \"state\": {\"correct_map\": {}, \"input_state\": {\"303034da25524878a2e66fb57c91cf85_2_1\": {}}, \"has_saved_answers\": null, \"seed\": 1, \"done\": null, \"student_answers\": {}}, \"answers\": {\"303034da25524878a2e66fb57c91cf85_2_1\": \"choice_2\"}, \"attempts\": 1, \"max_grade\": 1, \"problem_id\": \"block-v1:edX+DemoX+Demo_Course+type@problem+block@303034da25524878a2e66fb57c91cf85\"}, \"event_source\": \"server\", \"context\": {\"course_user_tags\": {}, \"user_id\": 6, \"org_id\": \"edX\", \"asides\": {}, \"module\": {\"usage_key\": \"block-v1:edX+DemoX+Demo_Course+type@problem+block@303034da25524878a2e66fb57c91cf85\", \"display_name\": \"Attributing Blame\"}, \"course_id\": \"course-v1:edX+DemoX+Demo_Course\", \"path\": \"/courses/course-v1:edX+DemoX+Demo_Course/xblock/block-v1:edX+DemoX+Demo_Course+type@problem+block@303034da25524878a2e66fb57c91cf85/handler/xmodule_handler/problem_check\"}, \"time\": \"2017-09-15T13:42:58.153338+00:00\", \"page\": \"x_module\"}\n",
    "```\n",
    "\n",
    "To give you an idea, there are maybe a hundred or so lines in each log file out of thousands that contain anything interesting."
   ]
  },
  {
   "cell_type": "markdown",
   "metadata": {},
   "source": [
    "# Step 1: Parse"
   ]
  },
  {
   "cell_type": "markdown",
   "metadata": {},
   "source": [
    "<img src=\"images/pipeline-parse.png\" alt=\"parse data\" style=\"width: 600px;\"/>"
   ]
  },
  {
   "cell_type": "markdown",
   "metadata": {},
   "source": [
    "Properly parsing data is perhaps the trickiest and most important part of the pipeline. This is the step where raw data that is often not even human readable is processed to yield data that can provide insight. Some considerations when designing a parser might be:\n",
    "* human readability\n",
    "* required format for tools\n",
    "* ability to easily filter and recombine\n",
    "* ability to perform target operations\n",
    "* field relevance\n",
    "* data enrichment\n",
    "* target analytics or visualizations\n",
    "\n",
    "The D4M parser provided in this demo filters out some of the irreleveant data, combines a few data sources to enrich the final dataset, and produces Associative Arrays. The resulting associative arrays are easy to manipulate and filter, and can be ingested into a database."
   ]
  },
  {
   "cell_type": "markdown",
   "metadata": {},
   "source": [
    "First add the required packages and parser."
   ]
  },
  {
   "cell_type": "code",
   "execution_count": 3,
   "metadata": {},
   "outputs": [
    {
     "name": "stdout",
     "output_type": "stream",
     "text": [
      "Loaded /Library/Java/JavaVirtualMachines/jdk1.8.0_162.jdk/Contents/Home/jre/lib/server/libjvm.dylib\n"
     ]
    },
    {
     "data": {
      "text/plain": [
       "extractnames (generic function with 1 method)"
      ]
     },
     "execution_count": 3,
     "metadata": {},
     "output_type": "execute_result"
    }
   ],
   "source": [
    "using D4M,JSON,JLD\n",
    "include(\"../../src/julia/parser.jl\")"
   ]
  },
  {
   "cell_type": "markdown",
   "metadata": {},
   "source": [
    "Specify where we will save our parsed data files and what we will call them."
   ]
  },
  {
   "cell_type": "code",
   "execution_count": 4,
   "metadata": {
    "collapsed": true
   },
   "outputs": [],
   "source": [
    "saveLoc = \"../data/parsed/julia/\"\n",
    "savenames = replace.(fnames,logLoc,saveLoc).*\"-A.jld\";"
   ]
  },
  {
   "cell_type": "markdown",
   "metadata": {},
   "source": [
    "Now we can parse the data using our parser."
   ]
  },
  {
   "cell_type": "code",
   "execution_count": 5,
   "metadata": {},
   "outputs": [
    {
     "data": {
      "text/plain": [
       "30-element Array{Any,1}:\n",
       " \"../data/parsed/julia/tracking.log-20170911-1505128621-A.jld\"\n",
       " \"../data/parsed/julia/tracking.log-20170916-1505593021-A.jld\"\n",
       " \"../data/parsed/julia/tracking.log-20170922-1506082621-A.jld\"\n",
       " \"../data/parsed/julia/tracking.log-20171012-1507821421-A.jld\"\n",
       " \"../data/parsed/julia/tracking.log-20171016-1508163421-A.jld\"\n",
       " \"../data/parsed/julia/tracking.log-20171018-1508375821-A.jld\"\n",
       " \"../data/parsed/julia/tracking.log-20171024-1508876221-A.jld\"\n",
       " \"../data/parsed/julia/tracking.log-20171112-1510503421-A.jld\"\n",
       " \"../data/parsed/julia/tracking.log-20171122-1511367421-A.jld\"\n",
       " \"../data/parsed/julia/tracking.log-20171128-1511875021-A.jld\"\n",
       " \"../data/parsed/julia/tracking.log-20171204-1512429421-A.jld\"\n",
       " \"../data/parsed/julia/tracking.log-20171211-1512969421-A.jld\"\n",
       " \"../data/parsed/julia/tracking.log-20171217-1513495021-A.jld\"\n",
       " ⋮                                                            \n",
       " \"../data/parsed/julia/tracking.log-20180112-1515759421-A.jld\"\n",
       " \"../data/parsed/julia/tracking.log-20180126-1516990621-A.jld\"\n",
       " nothing                                                      \n",
       " \"../data/parsed/julia/tracking.log-20180207-1518031021-A.jld\"\n",
       " nothing                                                      \n",
       " \"../data/parsed/julia/tracking.log-20180303-1520104621-A.jld\"\n",
       " nothing                                                      \n",
       " \"../data/parsed/julia/tracking.log-20180321-1521609421-A.jld\"\n",
       " nothing                                                      \n",
       " nothing                                                      \n",
       " \"../data/parsed/julia/tracking.log-20180408-1523200621-A.jld\"\n",
       " \"../data/parsed/julia/tracking.log-20180414-1523704621-A.jld\""
      ]
     },
     "execution_count": 5,
     "metadata": {},
     "output_type": "execute_result"
    }
   ],
   "source": [
    "parseFile.(fnames,savenames,outlinename);"
   ]
  },
  {
   "cell_type": "markdown",
   "metadata": {},
   "source": [
    "Here is an example of a parsed event:"
   ]
  },
  {
   "cell_type": "code",
   "execution_count": 6,
   "metadata": {},
   "outputs": [
    {
     "name": "stdout",
     "output_type": "stream",
     "text": [
      "(20180303-1520104621_0024,context_course_id|course-v1:LLx+LLX07+Q4_2017)\t1\n",
      "(20180303-1520104621_0024,context_org_id|LLx)\t1\n",
      "(20180303-1520104621_0024,context_path|https://bwedx.mit.edu/courses/course-v1:LLx+LLX07+Q4_2017/courseware)\t1\n",
      "(20180303-1520104621_0024,context_user_id|9)\t1\n",
      "(20180303-1520104621_0024,event_source|server)\t1\n",
      "(20180303-1520104621_0024,event_type|navigation)\t1\n",
      "(20180303-1520104621_0024,host|bwedx.mit.edu)\t1\n",
      "(20180303-1520104621_0024,ip|18.111.1.40)\t1\n",
      "(20180303-1520104621_0024,referer|https://bwedx.mit.edu/courses/course-v1:LLx+LLX07+Q4_2017/info)\t1\n",
      "(20180303-1520104621_0024,time|2018-02-27T17:13:15.351329+00:00)\t1\n",
      "(20180303-1520104621_0024,username|LaurenMilechin)\t1\n"
     ]
    }
   ],
   "source": [
    "A = load(\"../data/parsed/julia/tracking.log-20180303-1520104621-A.jld\")[\"A\"]\n",
    "printTriple(A[24,:])"
   ]
  },
  {
   "cell_type": "markdown",
   "metadata": {},
   "source": [
    "A D4M associative array is constructed with triples: two keys (row and column) map to a single value for each entry in the associative array. It can also be conceptualized as a sparse matrix, where the row and column indexes are strings.\n",
    "\n",
    "Row keys are unique intentifiers for each event. I have formed these by taking the tracking log file name and the event number (the order that the events occurred in the file).\n",
    "\n",
    "Column keys contain the information about the event. Most of them are created by taking the field name and combining it with the value. There are specialized functions for creating the column keys corresponding to problem events and module/section names. Thus, the main body of the parser creates the column keys.\n",
    "\n",
    "In the Julia parser, the core of the `makecols` function is:\n",
    "\n",
    "```julia\n",
    "# dict- the dictionary returned by the JSON parser on the current log line\n",
    "for key in keys(dict)\n",
    "\n",
    "    # If field is a scalar (single) string or number, just add it\n",
    "    if (isa(dict[key],String) || isa(dict[key],Number)) && ~isempty(dict[key])\n",
    "        cols = [cols; prefix*key*'|'*replace(string(dict[key]),\"\\n\",\"\")]\n",
    "\n",
    "        # If field is a non-empty array, add each element\n",
    "    elseif isa(dict[key],Array) && ~isempty(dict[key])  # not supporting array of dicts for now\n",
    "        if ~isa(dict[key][1],Dict)\n",
    "            cols = [cols; (prefix*key*'|').*replace.(dict[key],\"\\n\",\"\")]\n",
    "        else\n",
    "            cols = [cols; join(join.(makecols.(dict[key],allOutlines,prefix*key*'_')))]\n",
    "        end\n",
    "\n",
    "    # If field is a struct, recursively call makecols on the struct\n",
    "    elseif isa(dict[key],Dict)\n",
    "        cols = [cols; makecols(dict[key],allOutlines,prefix*key*'_')]\n",
    "    end\n",
    "end\n",
    "```\n",
    "\n",
    "This occurs at the end of the function (roughly line 150 in parser.jl), after we have removed the fields we are not interested in, parsed the \"event\" field of problem_check events, and created column keys specifying navigation and course location information. It is fairly simple to add more functionality to this parser to do more enrichment or filter out more data.\n",
    "\n",
    "The column keys are returned in an array the length of the log with an array of column keys for each parsed line of the log. Since the Assoc constructor requires arrays of the same length, to create the row keys we create a unique ID for each row in the log, and duplicate each row key to match the number of column keys for each line of the log. We then flatten both the row and column keys to create two arrays of strings of equal length:\n",
    "\n",
    "```julia\n",
    "# Parse the JSON log file into dict\n",
    "log = JSON.parse.(log);\n",
    "\n",
    "# Make column keys\n",
    "cols = makecols.(log,allOutlines)\n",
    "\n",
    "# Finish column keys\n",
    "cIDs = split(join(join.(cols[cols .!= \"\"],'\\n'),'\\n'),'\\n')\n",
    "\n",
    "# Make row keys\n",
    "lens = length.(cols)\n",
    "rIDs = (fname[14:end]*'_').*lpad.([1:length(log);],4,0).*'\\n';\n",
    "rIDs = split(join(repeat.(rIDs,lens),\"\")[1:end-1],'\\n')\n",
    "\n",
    "# Form associative array\n",
    "A = Assoc(rIDs, cIDs, 1)\n",
    "```\n"
   ]
  },
  {
   "cell_type": "markdown",
   "metadata": {},
   "source": [
    "# Step 2: Ingest"
   ]
  },
  {
   "cell_type": "markdown",
   "metadata": {},
   "source": [
    "<img src=\"images/pipeline-ingest.png\" alt=\"ingest data\" style=\"width: 600px;\"/>"
   ]
  },
  {
   "cell_type": "markdown",
   "metadata": {},
   "source": [
    "If you are using a database, this is where you would ingest your data. I am using Accumulo. Note that currently if you want to use the database features of D4M you will need to checkout the \"db\" branch in Julia (`Pkg.checkout(\"D4M\",\"db\")`).\n",
    "\n",
    "If you want to test this out, I suggest using [Apache Uno](https://github.com/apache/fluo-uno)- this will download all of Accumulo's dependencies and configure it for you. It may not work on Windows.\n",
    "\n",
    "Note: dbinit() may cause segmentation fault when run on OSX- this is cause by the JVM used for database operations (See [JavaCall FAQ](http://juliainterop.github.io/JavaCall.jl/faq.html)) and is nothing to worry about."
   ]
  },
  {
   "cell_type": "code",
   "execution_count": 7,
   "metadata": {},
   "outputs": [
    {
     "name": "stderr",
     "output_type": "stream",
     "text": [
      "\n",
      "signal (11): Segmentation fault: 11\n",
      "while loading In[7], in expression starting on line 3\n",
      "unknown function (ip: 0x1287362b3)\n",
      "Allocations: 28987961 (Pool: 28978812; Big: 9149); GC: 73\n"
     ]
    }
   ],
   "source": [
    "# Pkg.checkout(\"D4M\",\"db\")\n",
    "using JavaCall\n",
    "dbinit()"
   ]
  },
  {
   "cell_type": "markdown",
   "metadata": {},
   "source": [
    "Set connects to database and database tables. The \"addColCombiner\" command ensures that the \"counts\" in the degree table are incremented as the individual summed associative arrays are ingested."
   ]
  },
  {
   "cell_type": "code",
   "execution_count": 48,
   "metadata": {},
   "outputs": [
    {
     "data": {
      "text/plain": [
       "\"bwedx_\""
      ]
     },
     "execution_count": 48,
     "metadata": {},
     "output_type": "execute_result"
    }
   ],
   "source": [
    "DB = dbsetup(\"uno\",\"db.conf\")\n",
    "myname = \"bwedx_\""
   ]
  },
  {
   "cell_type": "markdown",
   "metadata": {},
   "source": [
    "The schema we use is called the D4M schema. It consists of a main table and its transpose. This main table is often called the edge table, or incidence table, since it can be interpreted as an incidence matrix representation of a graph. The transpose table allows you to index your data by both row and column keys. Accumulo does very fast row queries, the transpose table puts your column keys in Accumulo's rows, giving you better query performace at the cost of increasing your data size. In D4M, we use a single object called a table pair to hold the edge table and its transpose, it handles ingesting data into both tables and queries the appropriate table.\n",
    "\n",
    "The third table is the degree table (again named with graph terminology- the degree of a vertex is the number of other vertices it is connected to), which contains the number of times each column key occurs throught the database. It is good for query planning."
   ]
  },
  {
   "cell_type": "markdown",
   "metadata": {},
   "source": [
    "Create the tables that will hold the data. "
   ]
  },
  {
   "cell_type": "code",
   "execution_count": 8,
   "metadata": {},
   "outputs": [
    {
     "name": "stdout",
     "output_type": "stream",
     "text": [
      "Creating bwedx_Tedge in uno\n",
      "Creating bwedx_TedgeT in uno\n",
      "Creating bwedx_TedgeDeg in uno\n"
     ]
    }
   ],
   "source": [
    "# Create/connect to tables\n",
    "Tedge = DB[myname*\"Tedge\",myname*\"TedgeT\"]\n",
    "TedgeDeg = DB[myname*\"TedgeDeg\"]\n",
    "\n",
    "# Delete if it contains leftover data (we are only doing this to have a clean example)\n",
    "if nnz(Tedge) != 0 || nnz(TedgeDeg) != 0\n",
    "    delete(Tedge); delete(TedgeDeg)\n",
    "    Tedge = DB[myname*\"Tedge\",myname*\"TedgeT\"]\n",
    "    TedgeDeg = DB[myname*\"TedgeDeg\"]\n",
    "end\n",
    "\n",
    "addColCombiner(TedgeDeg,\"Degree,\",\"sum\");"
   ]
  },
  {
   "cell_type": "code",
   "execution_count": 9,
   "metadata": {},
   "outputs": [],
   "source": [
    "parseLoc = \"../data/parsed/julia/\"\n",
    "parsenames = parseLoc.*readdir(parseLoc);"
   ]
  },
  {
   "cell_type": "markdown",
   "metadata": {},
   "source": [
    "Now let's ingest the data. We can watch on the [Accumulo Monitor](http://localhost:9995/)."
   ]
  },
  {
   "cell_type": "code",
   "execution_count": 10,
   "metadata": {
    "collapsed": true
   },
   "outputs": [],
   "source": [
    "for i = 1:length(parsenames)\n",
    "    A = load(parsenames[i])[\"A\"]\n",
    "    colName = convert(Array{Union{AbstractString,Number}},[\"Degree\"])\n",
    "    Adeg = putCol(sum(A,1)',colName)\n",
    "    put(Tedge,A)\n",
    "    put(TedgeDeg,Adeg)\n",
    "end"
   ]
  },
  {
   "cell_type": "markdown",
   "metadata": {},
   "source": [
    "# Step 3: Query"
   ]
  },
  {
   "cell_type": "markdown",
   "metadata": {},
   "source": [
    "<img src=\"images/pipeline-query.png\" alt=\"parse data\" style=\"width: 600px;\"/>"
   ]
  },
  {
   "cell_type": "markdown",
   "metadata": {},
   "source": [
    "Let's quickly see how many events occured in each module."
   ]
  },
  {
   "cell_type": "code",
   "execution_count": 22,
   "metadata": {},
   "outputs": [
    {
     "name": "stdout",
     "output_type": "stream",
     "text": [
      "(module_name|Build Instructions,Degree)\t33\n",
      "(module_name|Doppler Processing,Degree)\t31\n",
      "(module_name|Example Week 1: Getting Started,Degree)\t86\n",
      "(module_name|Final,Degree)\t3\n",
      "(module_name|Introduction,Degree)\t13\n",
      "(module_name|Introduction to High Performance Scientific Computing,Degree)\t5\n",
      "(module_name|Introduction to the LLSC Systems,Degree)\t14\n",
      "(module_name|Overview,Degree)\t8\n",
      "(module_name|Resources,Degree)\t65\n",
      "(module_name|Submitting, Monitoring, and Stopping Jobs,Degree)\t14\n",
      "(module_name|TX-E1 Basics,Degree)\t26\n",
      "(module_name|The Analyst Challenge,Degree)\t686\n",
      "(module_name|The Data Challenge,Degree)\t232\n",
      "(module_name|The System Challenge,Degree)\t541\n",
      "(module_name|Use Case 2: MapReduce,Degree)\t5\n",
      "(module_name|Use Case 4: Parallel Computing,Degree)\t32\n",
      "(module_name|Use Case 5: Databases and Data Analytics,Degree)\t22\n",
      "(module_name|Using the LLSC Systems,Degree)\t20\n",
      "(module_name|Welcome,Degree)\t68\n"
     ]
    }
   ],
   "source": [
    "deg = TedgeDeg[:,:]\n",
    "\n",
    "printTriple(deg[StartsWith(\"module_name\"),:])"
   ]
  },
  {
   "cell_type": "markdown",
   "metadata": {},
   "source": [
    "Now let's find all the answers to a particular question."
   ]
  },
  {
   "cell_type": "code",
   "execution_count": 20,
   "metadata": {},
   "outputs": [
    {
     "name": "stdout",
     "output_type": "stream",
     "text": [
      "(20171226-1514348222_0033,event_answer_2_1|Any[\"Semantic triples\", \"Incidence matrix of a graph\", \"Many small dense tables\"])\t1\n",
      "(20171226-1514348222_0028,event_answer_2_1|Any[\"Semantic triples\", \"Incidence matrix of a graph\"])\t1\n"
     ]
    }
   ],
   "source": [
    "# Find all events that contain the question we are interested in\n",
    "Atmp = Tedge[:,\"event_question_2_1|Accumulo's data model can be interpreted as:,\"]\n",
    "A = Tedge[Row(Atmp),:]\n",
    "\n",
    "printTriple(A[:,StartsWith(\"event_answer\")])"
   ]
  },
  {
   "cell_type": "markdown",
   "metadata": {},
   "source": [
    "For this toy dataset the data size is not too big, we could probably query the entire table and be fine. However, that is not usually the case. When you are querying a large amount of data, you'll need to use an iterator. Here is an example from a realy course that we are offering."
   ]
  },
  {
   "cell_type": "markdown",
   "metadata": {},
   "source": [
    "We've connected to a database instance with real course data from one of our platforms. We are interested in navigation events from a particular course.\n",
    "\n",
    "```julia\n",
    "medlytics = \"course_id|course-v1:BWSI+BWSI150+Winter_2018\\n\"\n",
    "navEvents = \"event_type|navigation\\n\"\n",
    "\n",
    "println(\"Events in Medlytics Course: \"*Val(TedgeDeg[medlytics,:])[1])\n",
    "println(\"Navigation events: \"*Val(TedgeDeg[navEvents,:])[1])\n",
    "```\n",
    "`Events in Medlytics Course: 24939`\n",
    "\n",
    "`Navigation events: 240077`\n",
    "\n",
    "Since there are more navigation events than events in the Medlytics course, we are going to first query all events in the Medlytics course, then filter out the navigation events. Because we are stil going to be retrieving a large number of entries, we will user an iterator so we don't overwhelm the database.\n",
    "\n",
    "```julia\n",
    "MedIt = getiterator(Tedge,5000)\n",
    "Atmp = MedIt[:,medlytics]\n",
    "MedEvents = Assoc(\"\",\"\",\"\");\n",
    "\n",
    "# While there are still elements in Atmp\n",
    "while nnz(Atmp) > 0\n",
    "    # Only grab navigation events\n",
    "    Afull = Tedge[Row(Atmp),:]\n",
    "    Anav = Afull[Row(Afull[:,\"event_type|navigation\\n\"]),:]\n",
    "    \n",
    "    MedEvents = MedEvents + Anav\n",
    "    \n",
    "    # Get next query\n",
    "    Atmp = MedIt[]\n",
    "end\n",
    "\n",
    "size(MedEvents)\n",
    "```\n",
    "`(15757, 16494)`\n",
    "\n",
    "There are roughly 15,000 navigation events for this course."
   ]
  },
  {
   "cell_type": "markdown",
   "metadata": {},
   "source": [
    "# Step 4: Analyze/Visualize"
   ]
  },
  {
   "cell_type": "markdown",
   "metadata": {
    "collapsed": true
   },
   "source": [
    "<img src=\"images/pipeline-analyze.png\" alt=\"parse data\" style=\"width: 600px;\"/>"
   ]
  },
  {
   "cell_type": "markdown",
   "metadata": {},
   "source": [
    "Let's say we're interested in seeing a general trend of course traversal: do students go through the course linearly, or do they tend to jump around? We'll use the data from the Medlytics course example above."
   ]
  },
  {
   "cell_type": "code",
   "execution_count": 46,
   "metadata": {},
   "outputs": [],
   "source": [
    "using Plots\n",
    "plotly()\n",
    "\n",
    "A = load(\"courseNav.jld\")[\"A\"];"
   ]
  },
  {
   "cell_type": "markdown",
   "metadata": {},
   "source": [
    "First we get all events that involve a navigation within the course. For example, we can see what modules and sections students have navigated to from the first section of the first module."
   ]
  },
  {
   "cell_type": "code",
   "execution_count": 29,
   "metadata": {},
   "outputs": [
    {
     "name": "stdout",
     "output_type": "stream",
     "text": [
      "(last_course_loc|001.001,new_course_loc|001.002)\t7\n",
      "(last_course_loc|001.001,new_course_loc|001.003)\t1\n",
      "(last_course_loc|001.001,new_course_loc|002.001)\t3\n",
      "(last_course_loc|001.001,new_course_loc|002.002)\t4\n",
      "(last_course_loc|001.001,new_course_loc|002.003)\t1\n",
      "(last_course_loc|001.001,new_course_loc|002.004)\t1\n",
      "(last_course_loc|001.001,new_course_loc|003.002)\t5\n",
      "(last_course_loc|001.001,new_course_loc|003.003)\t1\n",
      "(last_course_loc|001.001,new_course_loc|004.002)\t1\n"
     ]
    }
   ],
   "source": [
    "courseNavs = A[Row(A[:,StartsWith(\"new_course_loc|\")]),:]\n",
    "prevLoc = courseNavs[:,StartsWith(\"last_course_loc|\")]\n",
    "newLoc = courseNavs[:,StartsWith(\"new_course_loc|\")]\n",
    "navgraph = prevLoc'*newLoc\n",
    "\n",
    "printTriple(navgraph[2,:])"
   ]
  },
  {
   "cell_type": "markdown",
   "metadata": {},
   "source": [
    "Now we can plot a heatmap to see the most frequent traversals."
   ]
  },
  {
   "cell_type": "code",
   "execution_count": 31,
   "metadata": {},
   "outputs": [
    {
     "data": {
      "application/vnd.plotly.v1+json": {
       "data": [
        {
         "colorbar": {
          "title": ""
         },
         "colorscale": [
          [
           0,
           "rgba(0, 0, 4, 1.000)"
          ],
          [
           0.034482758620689655,
           "rgba(4, 3, 20, 1.000)"
          ],
          [
           0.06896551724137931,
           "rgba(13, 8, 41, 1.000)"
          ],
          [
           0.10344827586206896,
           "rgba(24, 12, 60, 1.000)"
          ],
          [
           0.13793103448275862,
           "rgba(38, 12, 81, 1.000)"
          ],
          [
           0.1724137931034483,
           "rgba(54, 9, 97, 1.000)"
          ],
          [
           0.20689655172413793,
           "rgba(69, 10, 105, 1.000)"
          ],
          [
           0.2413793103448276,
           "rgba(84, 15, 109, 1.000)"
          ],
          [
           0.27586206896551724,
           "rgba(97, 19, 110, 1.000)"
          ],
          [
           0.3103448275862069,
           "rgba(111, 25, 110, 1.000)"
          ],
          [
           0.3448275862068966,
           "rgba(125, 30, 109, 1.000)"
          ],
          [
           0.3793103448275862,
           "rgba(140, 35, 105, 1.000)"
          ],
          [
           0.41379310344827586,
           "rgba(154, 40, 101, 1.000)"
          ],
          [
           0.4482758620689655,
           "rgba(166, 45, 96, 1.000)"
          ],
          [
           0.4827586206896552,
           "rgba(180, 51, 89, 1.000)"
          ],
          [
           0.5172413793103449,
           "rgba(193, 58, 80, 1.000)"
          ],
          [
           0.5517241379310345,
           "rgba(206, 67, 71, 1.000)"
          ],
          [
           0.5862068965517241,
           "rgba(216, 76, 62, 1.000)"
          ],
          [
           0.6206896551724138,
           "rgba(226, 87, 52, 1.000)"
          ],
          [
           0.6551724137931034,
           "rgba(235, 100, 41, 1.000)"
          ],
          [
           0.6896551724137931,
           "rgba(241, 115, 29, 1.000)"
          ],
          [
           0.7241379310344828,
           "rgba(247, 130, 18, 1.000)"
          ],
          [
           0.7586206896551724,
           "rgba(250, 144, 8, 1.000)"
          ],
          [
           0.7931034482758621,
           "rgba(252, 161, 8, 1.000)"
          ],
          [
           0.8275862068965517,
           "rgba(252, 178, 22, 1.000)"
          ],
          [
           0.8620689655172413,
           "rgba(250, 196, 42, 1.000)"
          ],
          [
           0.896551724137931,
           "rgba(246, 213, 67, 1.000)"
          ],
          [
           0.9310344827586207,
           "rgba(243, 229, 93, 1.000)"
          ],
          [
           0.9655172413793104,
           "rgba(242, 244, 130, 1.000)"
          ],
          [
           1,
           "rgba(252, 255, 164, 1.000)"
          ]
         ],
         "name": "y1",
         "showlegend": false,
         "showscale": true,
         "type": "heatmap",
         "x": [
          0.5,
          1.5,
          2.5,
          3.5,
          4.5,
          5.5,
          6.5,
          7.5,
          8.5,
          9.5,
          10.5,
          11.5,
          12.5,
          13.5,
          14.5,
          15.5
         ],
         "xaxis": "x1",
         "y": [
          0.5,
          1.5,
          2.5,
          3.5,
          4.5,
          5.5,
          6.5,
          7.5,
          8.5,
          9.5,
          10.5,
          11.5,
          12.5,
          13.5
         ],
         "yaxis": "y1",
         "z": [
          [
           7,
           0,
           0,
           0,
           0,
           0,
           0,
           0,
           0,
           0,
           0,
           0,
           0,
           0,
           0,
           0
          ],
          [
           0,
           0,
           24,
           0,
           0,
           0,
           0,
           0,
           0,
           0,
           0,
           0,
           0,
           0,
           0,
           0
          ],
          [
           0,
           11,
           0,
           24,
           0,
           0,
           0,
           0,
           0,
           0,
           0,
           0,
           0,
           0,
           0,
           0
          ],
          [
           0,
           8,
           6,
           0,
           15,
           0,
           0,
           0,
           0,
           0,
           0,
           0,
           0,
           0,
           0,
           0
          ],
          [
           0,
           0,
           0,
           0,
           0,
           9,
           0,
           0,
           0,
           0,
           0,
           0,
           0,
           0,
           0,
           0
          ],
          [
           0,
           0,
           0,
           0,
           0,
           0,
           14,
           0,
           0,
           0,
           0,
           0,
           0,
           0,
           0,
           0
          ],
          [
           0,
           0,
           0,
           0,
           0,
           0,
           0,
           43,
           0,
           0,
           0,
           0,
           0,
           0,
           0,
           0
          ],
          [
           0,
           0,
           0,
           0,
           0,
           0,
           8,
           0,
           29,
           7,
           0,
           0,
           0,
           0,
           0,
           0
          ],
          [
           0,
           0,
           0,
           0,
           0,
           0,
           0,
           10,
           0,
           28,
           0,
           0,
           0,
           0,
           0,
           0
          ],
          [
           0,
           0,
           0,
           0,
           0,
           0,
           0,
           0,
           7,
           0,
           16,
           0,
           0,
           0,
           0,
           0
          ],
          [
           0,
           0,
           0,
           0,
           0,
           0,
           0,
           0,
           0,
           0,
           0,
           0,
           12,
           0,
           0,
           0
          ],
          [
           0,
           0,
           0,
           0,
           0,
           0,
           0,
           0,
           0,
           0,
           0,
           8,
           0,
           14,
           0,
           0
          ],
          [
           0,
           0,
           0,
           0,
           0,
           0,
           0,
           0,
           0,
           0,
           0,
           0,
           0,
           0,
           11,
           0
          ],
          [
           0,
           0,
           0,
           0,
           0,
           0,
           0,
           0,
           0,
           0,
           0,
           0,
           0,
           0,
           0,
           6
          ]
         ]
        }
       ],
       "layout": {
        "annotations": [],
        "height": 400,
        "legend": {
         "bgcolor": "rgba(255, 255, 255, 1.000)",
         "bordercolor": "rgba(0, 0, 0, 1.000)",
         "font": {
          "color": "rgba(0, 0, 0, 1.000)",
          "family": "sans-serif",
          "size": 11
         },
         "tracegroupgap": 0,
         "x": 1,
         "y": 1
        },
        "margin": {
         "b": 20,
         "l": 0,
         "r": 0,
         "t": 20
        },
        "paper_bgcolor": "rgba(255, 255, 255, 1.000)",
        "plot_bgcolor": "rgba(255, 255, 255, 1.000)",
        "showlegend": true,
        "width": 600,
        "xaxis1": {
         "anchor": "y1",
         "domain": [
          0.347302420530767,
          0.9934383202099737
         ],
         "gridcolor": "rgba(0, 0, 0, 0.100)",
         "gridwidth": 0.5,
         "linecolor": "rgba(0, 0, 0, 1.000)",
         "mirror": false,
         "range": [
          0,
          16
         ],
         "showgrid": true,
         "showline": true,
         "showticklabels": true,
         "tickangle": -45,
         "tickcolor": "rgb(0, 0, 0)",
         "tickfont": {
          "color": "rgba(0, 0, 0, 1.000)",
          "family": "sans-serif",
          "size": 11
         },
         "tickmode": "array",
         "ticks": "inside",
         "ticktext": [
          "new_course_loc|001.002",
          "new_course_loc|002.001",
          "new_course_loc|002.002",
          "new_course_loc|002.003",
          "new_course_loc|002.004",
          "new_course_loc|003.001",
          "new_course_loc|003.002",
          "new_course_loc|003.003",
          "new_course_loc|003.005",
          "new_course_loc|003.006",
          "new_course_loc|004.001",
          "new_course_loc|004.002",
          "new_course_loc|004.003",
          "new_course_loc|004.004",
          "new_course_loc|004.005"
         ],
         "tickvals": [
          0.5,
          1.5,
          2.5,
          3.5,
          4.5,
          5.5,
          6.5,
          7.5,
          9.5,
          10.5,
          11.5,
          12.5,
          13.5,
          14.5,
          15.5
         ],
         "title": "",
         "titlefont": {
          "color": "rgba(0, 0, 0, 1.000)",
          "family": "sans-serif",
          "size": 15
         },
         "type": "-",
         "visible": true,
         "zeroline": false,
         "zerolinecolor": "rgba(0, 0, 0, 1.000)"
        },
        "yaxis1": {
         "anchor": "x1",
         "autorange": "reversed",
         "domain": [
          0.37518102329808894,
          0.9901574803149606
         ],
         "gridcolor": "rgba(0, 0, 0, 0.100)",
         "gridwidth": 0.5,
         "linecolor": "rgba(0, 0, 0, 1.000)",
         "mirror": false,
         "range": [
          0,
          14
         ],
         "showgrid": true,
         "showline": true,
         "showticklabels": true,
         "tickangle": 0,
         "tickcolor": "rgb(0, 0, 0)",
         "tickfont": {
          "color": "rgba(0, 0, 0, 1.000)",
          "family": "sans-serif",
          "size": 11
         },
         "tickmode": "array",
         "ticks": "inside",
         "ticktext": [
          "last_course_loc|001.001",
          "last_course_loc|002.001",
          "last_course_loc|002.002",
          "last_course_loc|002.003",
          "last_course_loc|002.004",
          "last_course_loc|003.001",
          "last_course_loc|003.002",
          "last_course_loc|003.003",
          "last_course_loc|003.003",
          "last_course_loc|003.004",
          "last_course_loc|003.005",
          "last_course_loc|004.001",
          "last_course_loc|004.002",
          "last_course_loc|004.003",
          "last_course_loc|004.004"
         ],
         "tickvals": [
          0.5,
          1.5,
          2.5,
          3.5,
          4.5,
          5.5,
          6.5,
          7.5,
          7.5,
          8.5,
          9.5,
          10.5,
          11.5,
          12.5,
          13.5
         ],
         "title": "",
         "titlefont": {
          "color": "rgba(0, 0, 0, 1.000)",
          "family": "sans-serif",
          "size": 15
         },
         "type": "-",
         "visible": true,
         "zeroline": false,
         "zerolinecolor": "rgba(0, 0, 0, 1.000)"
        }
       }
      },
      "text/html": [
       "<script src=\"file:///Users/Lauren/.julia/v0.6/Plots/src/backends/../../deps/plotly-latest.min.js\"></script>    <div id=\"bfcae1da-b980-4871-acc5-97cef506102e\" style=\"width:600px;height:400px;\"></div>\n",
       "    <script>\n",
       "    PLOT = document.getElementById('bfcae1da-b980-4871-acc5-97cef506102e');\n",
       "    Plotly.plot(PLOT, [{\"xaxis\":\"x1\",\"colorbar\":{\"title\":\"\"},\"colorscale\":[[0.0,\"rgba(0, 0, 4, 1.000)\"],[0.034482758620689655,\"rgba(4, 3, 20, 1.000)\"],[0.06896551724137931,\"rgba(13, 8, 41, 1.000)\"],[0.10344827586206896,\"rgba(24, 12, 60, 1.000)\"],[0.13793103448275862,\"rgba(38, 12, 81, 1.000)\"],[0.1724137931034483,\"rgba(54, 9, 97, 1.000)\"],[0.20689655172413793,\"rgba(69, 10, 105, 1.000)\"],[0.2413793103448276,\"rgba(84, 15, 109, 1.000)\"],[0.27586206896551724,\"rgba(97, 19, 110, 1.000)\"],[0.3103448275862069,\"rgba(111, 25, 110, 1.000)\"],[0.3448275862068966,\"rgba(125, 30, 109, 1.000)\"],[0.3793103448275862,\"rgba(140, 35, 105, 1.000)\"],[0.41379310344827586,\"rgba(154, 40, 101, 1.000)\"],[0.4482758620689655,\"rgba(166, 45, 96, 1.000)\"],[0.4827586206896552,\"rgba(180, 51, 89, 1.000)\"],[0.5172413793103449,\"rgba(193, 58, 80, 1.000)\"],[0.5517241379310345,\"rgba(206, 67, 71, 1.000)\"],[0.5862068965517241,\"rgba(216, 76, 62, 1.000)\"],[0.6206896551724138,\"rgba(226, 87, 52, 1.000)\"],[0.6551724137931034,\"rgba(235, 100, 41, 1.000)\"],[0.6896551724137931,\"rgba(241, 115, 29, 1.000)\"],[0.7241379310344828,\"rgba(247, 130, 18, 1.000)\"],[0.7586206896551724,\"rgba(250, 144, 8, 1.000)\"],[0.7931034482758621,\"rgba(252, 161, 8, 1.000)\"],[0.8275862068965517,\"rgba(252, 178, 22, 1.000)\"],[0.8620689655172413,\"rgba(250, 196, 42, 1.000)\"],[0.896551724137931,\"rgba(246, 213, 67, 1.000)\"],[0.9310344827586207,\"rgba(243, 229, 93, 1.000)\"],[0.9655172413793104,\"rgba(242, 244, 130, 1.000)\"],[1.0,\"rgba(252, 255, 164, 1.000)\"]],\"yaxis\":\"y1\",\"showscale\":true,\"x\":[0.5,1.5,2.5,3.5,4.5,5.5,6.5,7.5,8.5,9.5,10.5,11.5,12.5,13.5,14.5,15.5],\"showlegend\":false,\"name\":\"y1\",\"z\":[[7,0,0,0,0,0,0,0,0,0,0,0,0,0,0,0],[0,0,24,0,0,0,0,0,0,0,0,0,0,0,0,0],[0,11,0,24,0,0,0,0,0,0,0,0,0,0,0,0],[0,8,6,0,15,0,0,0,0,0,0,0,0,0,0,0],[0,0,0,0,0,9,0,0,0,0,0,0,0,0,0,0],[0,0,0,0,0,0,14,0,0,0,0,0,0,0,0,0],[0,0,0,0,0,0,0,43,0,0,0,0,0,0,0,0],[0,0,0,0,0,0,8,0,29,7,0,0,0,0,0,0],[0,0,0,0,0,0,0,10,0,28,0,0,0,0,0,0],[0,0,0,0,0,0,0,0,7,0,16,0,0,0,0,0],[0,0,0,0,0,0,0,0,0,0,0,0,12,0,0,0],[0,0,0,0,0,0,0,0,0,0,0,8,0,14,0,0],[0,0,0,0,0,0,0,0,0,0,0,0,0,0,11,0],[0,0,0,0,0,0,0,0,0,0,0,0,0,0,0,6]],\"y\":[0.5,1.5,2.5,3.5,4.5,5.5,6.5,7.5,8.5,9.5,10.5,11.5,12.5,13.5],\"type\":\"heatmap\"}], {\"showlegend\":true,\"paper_bgcolor\":\"rgba(255, 255, 255, 1.000)\",\"xaxis1\":{\"showticklabels\":true,\"gridwidth\":0.5,\"tickvals\":[0.5,1.5,2.5,3.5,4.5,5.5,6.5,7.5,9.5,10.5,11.5,12.5,13.5,14.5,15.5],\"visible\":true,\"ticks\":\"inside\",\"range\":[0.0,16.0],\"domain\":[0.347302420530767,0.9934383202099737],\"tickmode\":\"array\",\"linecolor\":\"rgba(0, 0, 0, 1.000)\",\"showgrid\":true,\"title\":\"\",\"mirror\":false,\"tickangle\":-45,\"showline\":true,\"gridcolor\":\"rgba(0, 0, 0, 0.100)\",\"titlefont\":{\"color\":\"rgba(0, 0, 0, 1.000)\",\"family\":\"sans-serif\",\"size\":15},\"tickcolor\":\"rgb(0, 0, 0)\",\"ticktext\":[\"new_course_loc|001.002\",\"new_course_loc|002.001\",\"new_course_loc|002.002\",\"new_course_loc|002.003\",\"new_course_loc|002.004\",\"new_course_loc|003.001\",\"new_course_loc|003.002\",\"new_course_loc|003.003\",\"new_course_loc|003.005\",\"new_course_loc|003.006\",\"new_course_loc|004.001\",\"new_course_loc|004.002\",\"new_course_loc|004.003\",\"new_course_loc|004.004\",\"new_course_loc|004.005\"],\"zeroline\":false,\"type\":\"-\",\"tickfont\":{\"color\":\"rgba(0, 0, 0, 1.000)\",\"family\":\"sans-serif\",\"size\":11},\"zerolinecolor\":\"rgba(0, 0, 0, 1.000)\",\"anchor\":\"y1\"},\"annotations\":[],\"height\":400,\"margin\":{\"l\":0,\"b\":20,\"r\":0,\"t\":20},\"plot_bgcolor\":\"rgba(255, 255, 255, 1.000)\",\"yaxis1\":{\"showticklabels\":true,\"gridwidth\":0.5,\"tickvals\":[0.5,1.5,2.5,3.5,4.5,5.5,6.5,7.5,7.5,8.5,9.5,10.5,11.5,12.5,13.5],\"visible\":true,\"ticks\":\"inside\",\"range\":[0.0,14.0],\"domain\":[0.37518102329808894,0.9901574803149606],\"tickmode\":\"array\",\"linecolor\":\"rgba(0, 0, 0, 1.000)\",\"autorange\":\"reversed\",\"showgrid\":true,\"title\":\"\",\"mirror\":false,\"tickangle\":0,\"showline\":true,\"gridcolor\":\"rgba(0, 0, 0, 0.100)\",\"titlefont\":{\"color\":\"rgba(0, 0, 0, 1.000)\",\"family\":\"sans-serif\",\"size\":15},\"tickcolor\":\"rgb(0, 0, 0)\",\"ticktext\":[\"last_course_loc|001.001\",\"last_course_loc|002.001\",\"last_course_loc|002.002\",\"last_course_loc|002.003\",\"last_course_loc|002.004\",\"last_course_loc|003.001\",\"last_course_loc|003.002\",\"last_course_loc|003.003\",\"last_course_loc|003.003\",\"last_course_loc|003.004\",\"last_course_loc|003.005\",\"last_course_loc|004.001\",\"last_course_loc|004.002\",\"last_course_loc|004.003\",\"last_course_loc|004.004\"],\"zeroline\":false,\"type\":\"-\",\"tickfont\":{\"color\":\"rgba(0, 0, 0, 1.000)\",\"family\":\"sans-serif\",\"size\":11},\"zerolinecolor\":\"rgba(0, 0, 0, 1.000)\",\"anchor\":\"x1\"},\"legend\":{\"tracegroupgap\":0,\"bordercolor\":\"rgba(0, 0, 0, 1.000)\",\"bgcolor\":\"rgba(255, 255, 255, 1.000)\",\"font\":{\"color\":\"rgba(0, 0, 0, 1.000)\",\"family\":\"sans-serif\",\"size\":11},\"y\":1.0,\"x\":1.0},\"width\":600});\n",
       "    </script>\n"
      ]
     },
     "execution_count": 31,
     "metadata": {},
     "output_type": "execute_result"
    }
   ],
   "source": [
    "thresh = 5\n",
    "\n",
    "ys = String.(Row(navgraph>thresh))\n",
    "xs = String.(Col(navgraph>thresh))\n",
    "z = full((navgraph>thresh).A)\n",
    "heatmap(xs, ys, z, yflip=true, xrotation=45)"
   ]
  },
  {
   "cell_type": "markdown",
   "metadata": {},
   "source": [
    "Curous about what that hotspot is? By hovering over it on the heatmap, we can see it's from location 003.002 to 003.003 (module 3 section 2-3). What sections are these in the course?\n",
    "\n",
    "Here is a fancy way you can do an \"AND\" query."
   ]
  },
  {
   "cell_type": "code",
   "execution_count": 45,
   "metadata": {},
   "outputs": [
    {
     "data": {
      "text/plain": [
       "6-element Array{Union{AbstractString, Number},1}:\n",
       " \"last_course_loc|003.002\"                          \n",
       " \"last_module_name|Module 2: Introduction to Coding\"\n",
       " \"last_section_name|Git\"                            \n",
       " \"new_course_loc|003.003\"                           \n",
       " \"new_module_name|Module 2: Introduction to Coding\" \n",
       " \"new_section_name|Python\"                          "
      ]
     },
     "execution_count": 45,
     "metadata": {},
     "output_type": "execute_result"
    }
   ],
   "source": [
    "# Find all rows with both last_course_loc|003.002 and new_course_loc|003.003\n",
    "Atmp = sum(A[:,\"last_course_loc|003.002,\"] + A[:,\"new_course_loc|003.003,\"],2) == 2\n",
    "\n",
    "# Grab the module and section names\n",
    "popNav = A[Row(Atmp),StartsWith(\"last,new,\")]\n",
    "\n",
    "Col(popNav)"
   ]
  }
 ],
 "metadata": {
  "kernelspec": {
   "display_name": "Julia 0.6.2",
   "language": "julia",
   "name": "julia-0.6"
  },
  "language_info": {
   "file_extension": ".jl",
   "mimetype": "application/julia",
   "name": "julia",
   "version": "0.6.2"
  }
 },
 "nbformat": 4,
 "nbformat_minor": 2
}
